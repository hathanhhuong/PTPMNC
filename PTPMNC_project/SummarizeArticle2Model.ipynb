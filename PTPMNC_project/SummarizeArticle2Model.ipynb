{
 "cells": [
  {
   "cell_type": "code",
   "execution_count": null,
   "metadata": {
    "application/vnd.databricks.v1+cell": {
     "cellMetadata": {
      "byteLimit": 2048000,
      "rowLimit": 10000
     },
     "inputWidgets": {},
     "nuid": "fcc7ce59-22a9-448c-80b3-0640c195ed2f",
     "showTitle": false,
     "title": ""
    }
   },
   "outputs": [
    {
     "name": "stdout",
     "output_type": "stream",
     "text": [
      "\u001b[43mNote: you may need to restart the kernel using dbutils.library.restartPython() to use updated packages.\u001b[0m\n",
      "Requirement already satisfied: openai in /local_disk0/.ephemeral_nfs/envs/pythonEnv-51919927-1198-4261-ac85-4adc7518d7a6/lib/python3.10/site-packages (1.23.1)\n",
      "Requirement already satisfied: anyio<5,>=3.5.0 in /local_disk0/.ephemeral_nfs/envs/pythonEnv-51919927-1198-4261-ac85-4adc7518d7a6/lib/python3.10/site-packages (from openai) (4.3.0)\n",
      "Requirement already satisfied: pydantic<3,>=1.9.0 in /databricks/python3/lib/python3.10/site-packages (from openai) (1.10.6)\n",
      "Requirement already satisfied: sniffio in /local_disk0/.ephemeral_nfs/envs/pythonEnv-51919927-1198-4261-ac85-4adc7518d7a6/lib/python3.10/site-packages (from openai) (1.3.1)\n",
      "Requirement already satisfied: httpx<1,>=0.23.0 in /local_disk0/.ephemeral_nfs/envs/pythonEnv-51919927-1198-4261-ac85-4adc7518d7a6/lib/python3.10/site-packages (from openai) (0.27.0)\n",
      "Requirement already satisfied: distro<2,>=1.7.0 in /usr/lib/python3/dist-packages (from openai) (1.7.0)\n",
      "Requirement already satisfied: tqdm>4 in /databricks/python3/lib/python3.10/site-packages (from openai) (4.64.1)\n",
      "Requirement already satisfied: typing-extensions<5,>=4.7 in /local_disk0/.ephemeral_nfs/cluster_libraries/python/lib/python3.10/site-packages (from openai) (4.11.0)\n",
      "Requirement already satisfied: exceptiongroup>=1.0.2 in /local_disk0/.ephemeral_nfs/envs/pythonEnv-51919927-1198-4261-ac85-4adc7518d7a6/lib/python3.10/site-packages (from anyio<5,>=3.5.0->openai) (1.2.1)\n",
      "Requirement already satisfied: idna>=2.8 in /databricks/python3/lib/python3.10/site-packages (from anyio<5,>=3.5.0->openai) (3.3)\n",
      "Requirement already satisfied: httpcore==1.* in /local_disk0/.ephemeral_nfs/envs/pythonEnv-51919927-1198-4261-ac85-4adc7518d7a6/lib/python3.10/site-packages (from httpx<1,>=0.23.0->openai) (1.0.5)\n",
      "Requirement already satisfied: certifi in /databricks/python3/lib/python3.10/site-packages (from httpx<1,>=0.23.0->openai) (2022.9.14)\n",
      "Requirement already satisfied: h11<0.15,>=0.13 in /local_disk0/.ephemeral_nfs/envs/pythonEnv-51919927-1198-4261-ac85-4adc7518d7a6/lib/python3.10/site-packages (from httpcore==1.*->httpx<1,>=0.23.0->openai) (0.14.0)\n",
      "\u001b[43mNote: you may need to restart the kernel using dbutils.library.restartPython() to use updated packages.\u001b[0m\n"
     ]
    }
   ],
   "source": [
    "pip install -U openai"
   ]
  },
  {
   "cell_type": "code",
   "execution_count": null,
   "metadata": {
    "application/vnd.databricks.v1+cell": {
     "cellMetadata": {
      "byteLimit": 2048000,
      "rowLimit": 10000
     },
     "inputWidgets": {},
     "nuid": "7cc8eb9f-7e0f-4984-a711-c99e5284d454",
     "showTitle": false,
     "title": ""
    }
   },
   "outputs": [],
   "source": [
    "import pandas as pd\n",
    "from datetime import datetime,timedelta\n",
    "import azure.cosmos.cosmos_client as cosmos_client\n",
    "import azure.cosmos.exceptions as exceptions\n",
    "from azure.cosmos.http_constants import StatusCodes\n",
    "from azure.cosmos.partition_key import PartitionKey\n",
    "from datetime import *\n",
    "from azure.cosmos import exceptions, CosmosClient, PartitionKey,ProxyConfiguration\n",
    "from pyspark.sql.functions import concat,col,lit\n"
   ]
  },
  {
   "cell_type": "code",
   "execution_count": null,
   "metadata": {
    "application/vnd.databricks.v1+cell": {
     "cellMetadata": {
      "byteLimit": 2048000,
      "rowLimit": 10000
     },
     "inputWidgets": {},
     "nuid": "760a57fb-2e0d-471f-9d33-7033f08ec7d0",
     "showTitle": false,
     "title": ""
    }
   },
   "outputs": [],
   "source": [
    "from openai import OpenAI\n",
    "clientGPT = OpenAI(api_key='{secret_key}')"
   ]
  },
  {
   "cell_type": "markdown",
   "metadata": {
    "application/vnd.databricks.v1+cell": {
     "cellMetadata": {
      "byteLimit": 2048000,
      "rowLimit": 10000
     },
     "inputWidgets": {},
     "nuid": "0e678e2b-d49f-43ab-b3f8-06db2cd8b891",
     "showTitle": false,
     "title": ""
    }
   },
   "source": [
    "## Read sa.articles"
   ]
  },
  {
   "cell_type": "code",
   "execution_count": null,
   "metadata": {
    "application/vnd.databricks.v1+cell": {
     "cellMetadata": {
      "byteLimit": 2048000,
      "rowLimit": 10000
     },
     "inputWidgets": {},
     "nuid": "81fd7199-df4b-40a1-9d84-25a172bcc81b",
     "showTitle": false,
     "title": ""
    }
   },
   "outputs": [
    {
     "name": "stdout",
     "output_type": "stream",
     "text": [
      "1713523696\n"
     ]
    }
   ],
   "source": [
    "import datetime\n",
    "\n",
    "current_time = datetime.datetime.now()\n",
    "timestamp = int(current_time.timestamp())\n",
    "print(timestamp)"
   ]
  },
  {
   "cell_type": "code",
   "execution_count": null,
   "metadata": {
    "application/vnd.databricks.v1+cell": {
     "cellMetadata": {
      "byteLimit": 2048000,
      "rowLimit": 10000
     },
     "inputWidgets": {},
     "nuid": "ac730d5e-b335-459d-9e4a-ed27e3f23036",
     "showTitle": false,
     "title": ""
    }
   },
   "outputs": [],
   "source": [
    "## Lay data trong 1 tieng gan nhat\n",
    "query = f\"WHERE c._ts >= {timestamp} - 3600\""
   ]
  },
  {
   "cell_type": "code",
   "execution_count": null,
   "metadata": {
    "application/vnd.databricks.v1+cell": {
     "cellMetadata": {
      "byteLimit": 2048000,
      "rowLimit": 10000
     },
     "inputWidgets": {},
     "nuid": "c3c70ed7-a695-4775-8c43-b60c006f1352",
     "showTitle": false,
     "title": ""
    }
   },
   "outputs": [
    {
     "data": {
      "text/plain": [
       "'WHERE c._ts >= 1713523696 - 100400'"
      ]
     },
     "execution_count": 24,
     "metadata": {},
     "output_type": "execute_result"
    }
   ],
   "source": [
    "query"
   ]
  },
  {
   "cell_type": "code",
   "execution_count": null,
   "metadata": {
    "application/vnd.databricks.v1+cell": {
     "cellMetadata": {
      "byteLimit": 2048000,
      "rowLimit": 10000
     },
     "inputWidgets": {},
     "nuid": "f6b66a55-0457-4266-a5bf-3b4233144e71",
     "showTitle": false,
     "title": ""
    }
   },
   "outputs": [],
   "source": [
    "# Config Authentic CosmosDB\n",
    "from azure.cosmos import CosmosClient\n",
    "CONNECTION_STRING = \"{connection_string}\"\n",
    "client = CosmosClient.from_connection_string(CONNECTION_STRING)\n",
    "database_name = \"sa\"\n",
    "container_name = \"articles\"\n",
    "database = client.get_database_client(database_name)\n",
    "container = database.get_container_client(container_name)"
   ]
  },
  {
   "cell_type": "code",
   "execution_count": null,
   "metadata": {
    "application/vnd.databricks.v1+cell": {
     "cellMetadata": {
      "byteLimit": 2048000,
      "rowLimit": 10000
     },
     "inputWidgets": {},
     "nuid": "3adc5b10-fbb1-4c9f-961f-3881eb142c6b",
     "showTitle": false,
     "title": ""
    }
   },
   "outputs": [
    {
     "data": {
      "text/plain": [
       "[{'article': 'https://cafef.vn/truong-dai-hoc-duoc-vi-nhu-cung-dien-chau-au-doc-nhat-vo-nhi-o-viet-nam-hoc-phi-re-bat-ngo-lum-xum-kien-tung-giua-co-dong-gop-von-la-2-anh-em-ruot-188240324221805058.chn',\n",
       "  'content': 'Tại Việt Nam, thị trường giáo dục, đặc biệt phân khúc trường đại học thu hút rất nhiều “đại gia” trong ngoài nước tham gia đầu tư. Các trường thu hút sinh viên với nhiều mô hình, chương trình giảng dạy cho đến kiến trúc xây dựng. Trong đó, trường Đại học Võ Trường Toản tại tỉnh Hậu Giang nhiều năm qua vẫn là ngôi trường gây chú ý nhất.Trường đại học được ví như cung điện độc nhất vô nhị ở Việt NamTheo giới thiệu, Đại học Võ Trường Toản là ngôi trường đại học tư thục đầu tiên của tỉnh Hậu Giang. Trường được thành lập vào tháng 2/2008, xây dựng theo mô hình “Thành phố đại học” mang phong cách châu Âu trên diện tích 20 hecta.Trường có thể đáp ứng nhu cầu học tập của trên 18.000 sinh viên, với đầy đủ cơ sở vật chất như khu giảng đường lý thuyết, khu thực hành thí nghiệm, nhà hiệu bộ, văn phòng làm việc, khu trung tâm thương mại - giải trí và ký túc xá.Bên cạnh đó, trường có hệ thống kiến trúc hiện đại, với hàng trăm mái vòm, cột tháp, mang đậm phong cách châu Âu. Màu xanh của cây cối kết hợp với màu sắc chủ đạo trong thiết kế gồm trắng, xám và đỏ bordeaux giúp tôn lên vẻ đẹp huyền bí và cổ tích của ngôi trường này.Trường còn có cả Khu công viên Kittyd & Minnied được thiết kế theo phong cách châu Âu với nhiều tòa nhà, lâu đài và nhiều trò chơi giải trí hấp dẫn, như tàu lượn siêu tốc, vòng quay ngựa gỗ, xe điện đụng….Ảnh: Một số hình ảnh của Trường Đại học Võ Trường Toản.Học phí “rẻ nhất Việt Nam”, chỉ từ 5,25 triệu/học kỳXịn sò là vậy, song trường lại có mức học phí rẻ đến bất ngờ, cam kết “rẻ nhất Việt Nam”. Theo Thông tin tuyển sinh niên khoá 2023 - 2024, học phí của Võ Trường Toản là 5,25 - 5,7 triệu/học kỳ với các ngành đang “hot” như: Tài chính - Ngân hàng, Quản trị Kinh doanh, Kế toán, Kinh doanh Quốc tế, Thương mại điện tử, Quản lý Nhà nước, Luật, Công nghệ thông tin.Trường cũng đào tạo các ngành y khoa với học phí 30,75 triệu đồng/học kỳ, dược với 21,25 triệu đồng/học kỳ, răng hàm mặt với 30,75 triệu/học kỳ. Một năm có 2 học kỳ.Trường còn cung cấp các gói học bổng cho sinh viên điểm cao.',\n",
       "  'created_date': '2024-04-18'},\n",
       " {'article': 'https://cafef.vn/doanh-nghiep-ti-hon-ganh-ga-khong-lo-nganh-cang-bien-loi-nhuan-moi-nam-dong-gop-200-300-ty-co-tuc-son-son-lai-hay-choi-lon-co-phieu-boc-dau-len-dinh-18824032315541691.chn',\n",
       "  'content': 'Ngày 3/4 tới đây, CTCP Cảng Xanh Vip (mã VGR) sẽ chốt danh sách cổ đông nhận cổ tức đợt 2 năm 2023 với tỷ lệ 60% bằng tiền (01 cổ phiếu nhận 6.000 đồng). Với 63,25 triệu cổ phiếu đang lưu hành, VGR dự kiến sẽ chi khoảng 380 tỷ đồng cho đợt cổ tức này. Thời gian thanh toán dự kiến vào ngày 15/4/2024.Trước đó, vào tháng 6 năm ngoái, VGR đã tạm ứng cổ tức đợt 1 năm 2023 với tỷ lệ 10%. Như vậy, tính cả đợt cổ tức lần này, VGR đã chia cổ tức năm 2023 cho cổ đông với tổng tỷ lệ lên đến 70%, hoàn thành kế hoạch được thông qua tại ĐHĐCĐ thường niên 2024. Đây là mức cổ tức cao nhất của VGR kể từ khi lên sàn chứng khoán.Với hiệu ứng tích cực từ thông tin chia cổ tức khủng, cổ phiếu VGR liên tục tăng nóng lên đỉnh 58.000 đồng/cp. Vốn hóa thị trường tương ứng đạt gần 3.700 tỷ đồng, tăng 55% so với thời điểm đầu năm 2024. Con số này gấp hơn 3 lần giá trị doanh nghiệp thời điểm chào sàn chứng khoán 5 năm trước.VGR thành lập tháng 10/2014 bởi 2 cổ đông lớn là CTCP Container Việt Nam (Viconship – mã VSC) và CTCP vận tải xăng dầu Vipco, với vốn điều lệ ban đầu 450 tỷ. Năm 2015, đối tác chiến lược Evergreen Marine Corp (Taiwam) Ltd – một hãng tàu lớn của Đài Loan (Trung Quốc), đã mua 12,5 triệu cổ phiếu từ đợt phát hành riêng lẻ của VGR qua đó trở thành cổ đông lớn.Cơ cấu cổ đông VGR thay đổi lớn sau khi Viconship mua lại toàn bộ phần vốn góp của Xăng dầu Vipco tháng 4/2016, qua đó nâng tỷ lệ sở hữu lên 74,35%. Đến tháng 4/2018, VGR đưa cổ phiếu lên giao dịch trên UPCoM với vốn điều lệ 632,5 tỷ đồng cùng mức định giá ban đầu hơn 1.100 tỷ. 2 cổ đông lớn của VGR đến nay vẫn là Viconship (74,35%) và Evergreen Marine (21,74%).Từ khi lên sàn chứng khoán, VGR chưa năm nào quên chia cổ tức bằng tiền cho cổ đông, đặc biệt là tỷ lệ cổ tức còn liên tục tăng qua từng năm. Năm 2023, tổng số tiền doanh nghiệp này chi ra để trả cổ tức lên đến 443 tỷ đồng, phần lớn thuộc về Viconship. Không quá khi cho rằng VGR là \"con gà đẻ trứng vàng\" của Viconship. Chỉ riêng số tiền cổ tức năm 2023 nhận từ VGR đã lên đến hơn 329 tỷ đồng, gấp rưỡi lợi nhuận ròng mà Viconship đạt được trong cả năm.\"Gã khổng lồ\" cảng biển trên vai doanh nghiệp \"tí hon\"Viconship là một trong những doanh nghiệp khai thác cảng có quy mô và tuổi đời hàng đầu Việt Nam. Viconship cũng là đơn vị có công suất lớn nhất tại khu vực cụm cảng Hải Phòng với 3 cảng container chính là Green, VIP Green và Nam Hải – Đình Vũ (NHDV). Doanh nghiệp hiện có vốn điều lệ 2.668 tỷ và vốn hóa thị trường gần 6.000 tỷ đồng.Không chỉ \"dốc hầu bao\" trả cổ tức, VGR còn đóng góp hàng trăm tỷ lợi nhuận mỗi năm cho Viconship. Năm 2023 ghi nhận lần đầu tiên lợi nhuận của VGR vượt Viconship. Doanh nghiệp này lãi ròng 271 tỷ đồng, gần như đi ngang so với năm trước trong khi lợi nhuận sau thuế của Viconship giảm mạnh gần 49% về mức 202 tỷ đồng. Tạm tính theo tỷ lệ chi phối, ở một góc độ nào đó, VGR đang \"gánh\" lợi nhuận của \"gã khổng lồ\" Viconship.Viconship hiện vẫn đang trong chiến lược mở rộng quy mô thông qua M&A. Trong năm 2023, doanh nghiệp đã hoàn tất mua mới 35% vốn tại Công ty TNHH Cảng Nam Hải Đình Vũ (sở hữu cảng Nam Hải Đình Vũ tại Hải Phòng), với giá trị khoảng 1.049 tỷ đồng, tương ứng mua với giá gần 75.000 đồng/cổ phiếu, chuyển sang hạch toán là khoản đầu tư vào công ty liên kết.Hiện nay, Viconship đang có kế hoạch dùng 1.320 tỷ để nhận chuyển nhượng thêm tối đa 44% vốn điều lệ tại Cảng Nam Hải Đình Vũ, với giá 75.000 đồng/cổ phiếu. Nếu thành công, Viconship sẽ nâng sở hữu từ 35%, lên tối đa 79% vốn điều lệ, qua đó chuyển từ hạch toán đầu tư vào công ty liên kết sang công ty con. Thời gian chuyển nhượng dự kiến từ quý 4/2023 đến năm 2024.Việc sở hữu cảng Nam Hải Đình Vũ giúp Viconship trở thành doanh nghiệp cảng lớn nhất tại Hải Phòng hiện nay, với tổng công suất khoảng 2,6 triệu TEU và chiếm 30% thị phần. Viconship cũng cho biết Cảng Nam Hải Đình Vũ đã bắt đầu đóng góp lợi nhuận vào hệ thống của doanh nghiệp này. Khu vực cảng Hải Phòng là 1 trong 3 khu vực (Vũng tàu, Hồ Chí Minh) có lượng hàng contaier thông qua cảng biển lớn nhất, chiếm 27% tổng lượng container. Trong 2 tháng đầu năm 2024, lượng hàng hóa container thông qua cảng biển ước đạt hơn 4 triệu Teu, tăng 27% so với cùng kỳ. Riêng khu vực Hải Phòng ước tính tăng trưởng 40-60% so với cùng kỳ.Theo báo cáo phân tích công bố mới đây, Mirae Asset cho rằng, Thông tư 39/2023/TT-BGTVT được thông qua nâng toàn bộ mức phí sàn dịch vụ của cảng biển trung bình lên khoảng 10%, sẽ hỗ trợ tích cực cho tăng trưởng doanh thu của các doanh nghiệp vận hành cảng biển, trong đó có Viconship.',\n",
       "  'created_date': '2024-04-18'}]"
      ]
     },
     "execution_count": 26,
     "metadata": {},
     "output_type": "execute_result"
    }
   ],
   "source": [
    "items = list(container.query_items(\n",
    "        query=f\"SELECT c.article, c.content, c.created_date FROM c {query} \",\n",
    "        enable_cross_partition_query=True\n",
    "    ))\n",
    "items"
   ]
  },
  {
   "cell_type": "code",
   "execution_count": null,
   "metadata": {
    "application/vnd.databricks.v1+cell": {
     "cellMetadata": {
      "byteLimit": 2048000,
      "rowLimit": 10000
     },
     "inputWidgets": {},
     "nuid": "2a598127-75b1-4107-be24-146e17a39177",
     "showTitle": false,
     "title": ""
    }
   },
   "outputs": [
    {
     "name": "stdout",
     "output_type": "stream",
     "text": [
      "                                             article  ... created_date\n",
      "0  https://cafef.vn/truong-dai-hoc-duoc-vi-nhu-cu...  ...   2024-04-18\n",
      "1  https://cafef.vn/doanh-nghiep-ti-hon-ganh-ga-k...  ...   2024-04-18\n",
      "\n",
      "[2 rows x 3 columns]\n"
     ]
    }
   ],
   "source": [
    "df = pd.DataFrame(items)\n",
    "print(df)"
   ]
  },
  {
   "cell_type": "code",
   "execution_count": null,
   "metadata": {
    "application/vnd.databricks.v1+cell": {
     "cellMetadata": {
      "byteLimit": 2048000,
      "rowLimit": 10000
     },
     "inputWidgets": {},
     "nuid": "ace0ba9f-aee4-4646-9077-7e63dd9e1671",
     "showTitle": false,
     "title": ""
    }
   },
   "outputs": [],
   "source": [
    "document_text = \"\"\n",
    "prompt = \"\"\"\n",
    "Identify each stock code mentioned in the document.\n",
    "Summary the information mentioned about each stock code.\n",
    "Each stock code's summary must be less than 200 characters.\n",
    "The summary must be in Vietnamese.\n",
    "Use strictly only information from the document. Do not generate extra information.\n",
    "Each stock code must be summarized only one time.\n",
    "Evaluate the sentiment regarding each stock code.\n",
    "\n",
    "<<Document>>\n",
    "{text}\n",
    "<<Document>>\n",
    "\n",
    "Instructions:\n",
    " - List stocks, must appear in the text\n",
    "\n",
    "\"\"\"\n",
    "\n",
    "Instruction = \"\"\"\n",
    "Returned results must be in Vietnamese.\n",
    "Returned results must include: StockID, Content, Sentiment.\n",
    "StockID: a unique code for each stock, composed of only three capital letters, must appear in the text, esspecially remember that each stock code must be summarized only one time.\n",
    "Content: A brief summary related to the stock, with a maximum of 200 characters\n",
    "Sentiment: positive, negative, neutral\n",
    "Your response should be in JSON format with the following mandatory fields.\n",
    "{\n",
    "\"StockID\":{\n",
    "  \"content\": \"Summary information related with the stock in a short sentence of max 200 characters\",\n",
    "  \"sentiment\": \"evaluate the status of stock via content summary, choose one of positive, negative, neutral\"\n",
    "}\n",
    "}\n",
    "\"\"\"\n",
    "text = prompt.format(text = document_text) + Instruction"
   ]
  },
  {
   "cell_type": "code",
   "execution_count": null,
   "metadata": {
    "application/vnd.databricks.v1+cell": {
     "cellMetadata": {
      "byteLimit": 2048000,
      "rowLimit": 10000
     },
     "inputWidgets": {},
     "nuid": "8471bba7-e859-47f8-b7df-ac0d40c13ba5",
     "showTitle": false,
     "title": ""
    }
   },
   "outputs": [],
   "source": [
    "def labeling(text_to_analyze = \"\"):\n",
    "  response = clientGPT.completions.create(\n",
    "    model= \"gpt-3.5-turbo-instruct\",\n",
    "    prompt=text,\n",
    "    temperature=0,\n",
    "    max_tokens=700,\n",
    "    top_p=0.7,\n",
    "    frequency_penalty=0,\n",
    "    presence_penalty=0\n",
    "  )\n",
    "  return response\n"
   ]
  },
  {
   "cell_type": "code",
   "execution_count": null,
   "metadata": {
    "application/vnd.databricks.v1+cell": {
     "cellMetadata": {
      "byteLimit": 2048000,
      "rowLimit": 10000
     },
     "inputWidgets": {},
     "nuid": "03eff36e-bfe3-4388-8e4f-c3cb3348bb28",
     "showTitle": false,
     "title": ""
    }
   },
   "outputs": [
    {
     "data": {
      "text/html": [
       "<div>\n",
       "<style scoped>\n",
       "    .dataframe tbody tr th:only-of-type {\n",
       "        vertical-align: middle;\n",
       "    }\n",
       "\n",
       "    .dataframe tbody tr th {\n",
       "        vertical-align: top;\n",
       "    }\n",
       "\n",
       "    .dataframe thead th {\n",
       "        text-align: right;\n",
       "    }\n",
       "</style>\n",
       "<table border=\"1\" class=\"dataframe\">\n",
       "  <thead>\n",
       "    <tr style=\"text-align: right;\">\n",
       "      <th></th>\n",
       "      <th>article</th>\n",
       "      <th>content</th>\n",
       "      <th>created_date</th>\n",
       "    </tr>\n",
       "  </thead>\n",
       "  <tbody>\n",
       "    <tr>\n",
       "      <th>0</th>\n",
       "      <td>https://cafef.vn/truong-dai-hoc-duoc-vi-nhu-cu...</td>\n",
       "      <td>Tại Việt Nam, thị trường giáo dục, đặc biệt ph...</td>\n",
       "      <td>2024-04-18</td>\n",
       "    </tr>\n",
       "    <tr>\n",
       "      <th>1</th>\n",
       "      <td>https://cafef.vn/doanh-nghiep-ti-hon-ganh-ga-k...</td>\n",
       "      <td>Ngày 3/4 tới đây, CTCP Cảng Xanh Vip (mã VGR) ...</td>\n",
       "      <td>2024-04-18</td>\n",
       "    </tr>\n",
       "  </tbody>\n",
       "</table>\n",
       "</div>"
      ],
      "text/plain": [
       "                                             article  ... created_date\n",
       "0  https://cafef.vn/truong-dai-hoc-duoc-vi-nhu-cu...  ...   2024-04-18\n",
       "1  https://cafef.vn/doanh-nghiep-ti-hon-ganh-ga-k...  ...   2024-04-18\n",
       "\n",
       "[2 rows x 3 columns]"
      ]
     },
     "execution_count": 30,
     "metadata": {},
     "output_type": "execute_result"
    }
   ],
   "source": [
    "df"
   ]
  },
  {
   "cell_type": "code",
   "execution_count": null,
   "metadata": {
    "application/vnd.databricks.v1+cell": {
     "cellMetadata": {
      "byteLimit": 2048000,
      "rowLimit": 10000
     },
     "inputWidgets": {},
     "nuid": "7b77b99a-d7ea-4111-9225-c4aa677e4af4",
     "showTitle": false,
     "title": ""
    }
   },
   "outputs": [],
   "source": [
    "results = []\n",
    "for i in range(len(df)):\n",
    "    try:\n",
    "        document_text = df.loc[i, 'content']\n",
    "        text = prompt.format(text=document_text) + Instruction\n",
    "        result = labeling(document_text).choices[0].text.strip()\n",
    "        results.append((df.loc[i, 'article'], df.loc[i, 'created_date'],df.loc[i, 'content'],result))\n",
    "    except Exception as e:\n",
    "        print(f\"Error processing row {i}: {e}\")\n",
    "        document_text = df.loc[i, 'content'][:3000]\n",
    "        text = prompt.format(text=document_text) + Instruction\n",
    "        result = labeling(document_text).choices[0].text.strip()\n",
    "        results.append((df.loc[i, 'article'], df.loc[i, 'created_date'],df.loc[i, 'content'],result))\n",
    "\n",
    "df_result = pd.DataFrame(results, columns=['article', 'created_date', 'content','result'])\n"
   ]
  },
  {
   "cell_type": "code",
   "execution_count": null,
   "metadata": {
    "application/vnd.databricks.v1+cell": {
     "cellMetadata": {
      "byteLimit": 2048000,
      "rowLimit": 10000
     },
     "inputWidgets": {},
     "nuid": "5f7e5464-2e43-41d6-b309-f95383ce9cbb",
     "showTitle": false,
     "title": ""
    }
   },
   "outputs": [
    {
     "data": {
      "text/html": [
       "<style scoped>\n",
       "  .table-result-container {\n",
       "    max-height: 300px;\n",
       "    overflow: auto;\n",
       "  }\n",
       "  table, th, td {\n",
       "    border: 1px solid black;\n",
       "    border-collapse: collapse;\n",
       "  }\n",
       "  th, td {\n",
       "    padding: 5px;\n",
       "  }\n",
       "  th {\n",
       "    text-align: left;\n",
       "  }\n",
       "</style><div class='table-result-container'><table class='table-result'><thead style='background-color: white'><tr><th>article</th><th>created_date</th><th>content</th><th>result</th></tr></thead><tbody><tr><td>https://cafef.vn/truong-dai-hoc-duoc-vi-nhu-cung-dien-chau-au-doc-nhat-vo-nhi-o-viet-nam-hoc-phi-re-bat-ngo-lum-xum-kien-tung-giua-co-dong-gop-von-la-2-anh-em-ruot-188240324221805058.chn</td><td>2024-04-18</td><td>Tại Việt Nam, thị trường giáo dục, đặc biệt phân khúc trường đại học thu hút rất nhiều “đại gia” trong ngoài nước tham gia đầu tư. Các trường thu hút sinh viên với nhiều mô hình, chương trình giảng dạy cho đến kiến trúc xây dựng. Trong đó, trường Đại học Võ Trường Toản tại tỉnh Hậu Giang nhiều năm qua vẫn là ngôi trường gây chú ý nhất.Trường đại học được ví như cung điện độc nhất vô nhị ở Việt NamTheo giới thiệu, Đại học Võ Trường Toản là ngôi trường đại học tư thục đầu tiên của tỉnh Hậu Giang. Trường được thành lập vào tháng 2/2008, xây dựng theo mô hình “Thành phố đại học” mang phong cách châu Âu trên diện tích 20 hecta.Trường có thể đáp ứng nhu cầu học tập của trên 18.000 sinh viên, với đầy đủ cơ sở vật chất như khu giảng đường lý thuyết, khu thực hành thí nghiệm, nhà hiệu bộ, văn phòng làm việc, khu trung tâm thương mại - giải trí và ký túc xá.Bên cạnh đó, trường có hệ thống kiến trúc hiện đại, với hàng trăm mái vòm, cột tháp, mang đậm phong cách châu Âu. Màu xanh của cây cối kết hợp với màu sắc chủ đạo trong thiết kế gồm trắng, xám và đỏ bordeaux giúp tôn lên vẻ đẹp huyền bí và cổ tích của ngôi trường này.Trường còn có cả Khu công viên Kittyd & Minnied được thiết kế theo phong cách châu Âu với nhiều tòa nhà, lâu đài và nhiều trò chơi giải trí hấp dẫn, như tàu lượn siêu tốc, vòng quay ngựa gỗ, xe điện đụng….Ảnh: Một số hình ảnh của Trường Đại học Võ Trường Toản.Học phí “rẻ nhất Việt Nam”, chỉ từ 5,25 triệu/học kỳXịn sò là vậy, song trường lại có mức học phí rẻ đến bất ngờ, cam kết “rẻ nhất Việt Nam”. Theo Thông tin tuyển sinh niên khoá 2023 - 2024, học phí của Võ Trường Toản là 5,25 - 5,7 triệu/học kỳ với các ngành đang “hot” như: Tài chính - Ngân hàng, Quản trị Kinh doanh, Kế toán, Kinh doanh Quốc tế, Thương mại điện tử, Quản lý Nhà nước, Luật, Công nghệ thông tin.Trường cũng đào tạo các ngành y khoa với học phí 30,75 triệu đồng/học kỳ, dược với 21,25 triệu đồng/học kỳ, răng hàm mặt với 30,75 triệu/học kỳ. Một năm có 2 học kỳ.Trường còn cung cấp các gói học bổng cho sinh viên điểm cao.</td><td>{\n",
       "\"VTT\":{\n",
       "  \"content\": \"Trường Đại học Võ Trường Toản tại tỉnh Hậu Giang là ngôi trường gây chú ý nhất với hệ thống kiến trúc hiện đại và học phí rẻ nhất Việt Nam.\",\n",
       "  \"sentiment\": \"positive\"\n",
       "},\n",
       "\"VNM\":{\n",
       "  \"content\": \"Thị trường giáo dục, đặc biệt phân khúc trường đại học tại Việt Nam thu hút nhiều đại gia trong và ngoài nước tham gia đầu tư.\",\n",
       "  \"sentiment\": \"neutral\"\n",
       "},\n",
       "\"CTG\":{\n",
       "  \"content\": \"Trường Đại học Võ Trường Toản có hệ thống kiến trúc hiện đại và học phí rẻ nhất Việt Nam, đào tạo nhiều ngành hot như Tài chính - Ngân hàng, Quản trị Kinh doanh, Kế toán, Kinh doanh Quốc tế, Thương mại điện tử, Quản lý Nhà nước, Luật, Công nghệ thông tin.\",\n",
       "  \"sentiment\": \"positive\"\n",
       "},\n",
       "\"VRE\":{\n",
       "  \"content\": \"Trường Đại học Võ Trường Toản có hệ thống kiến trúc hiện đại và học phí rẻ nhất Việt Nam, đào tạo nhiều ngành hot như Tài chính - Ngân hàng, Quản trị Kinh doanh, Kế toán, Kinh doanh Quốc tế, Thương mại điện tử, Quản lý Nhà nước, Luật, Công nghệ thông tin.\",\n",
       "  \"sentiment\": \"positive\"\n",
       "},\n",
       "\"VIC\":{\n",
       "  \"content\": \"Trường Đại học Võ Trường Toản có hệ thống kiến trúc hiện đại và học phí rẻ nhất Việt Nam, đào tạo nhiều ngành hot như Tài chính - Ngân hàng, Quản trị Kinh doanh, Kế toán, Kinh doanh Quốc tế, Thương mại điện tử, Quản lý Nhà nước, Luật, Công nghệ thông tin.\",\n",
       "  \"sentiment\": \"positive\"\n",
       "},\n",
       "\"HPG\":{\n",
       "  \"content\": \"Trường Đại học Võ Trường Toản có hệ thống kiến trúc hiện đại và học phí rẻ nhất Việt Nam, đào tạo nhiều ngành hot như Tài chính - Ngân hàng, Quản trị Kinh doanh, Kế toán, Kinh doanh Quốc tế, Thương mại điện tử, Quản lý Nhà nước, Luật, Công nghệ thông tin</td></tr><tr><td>https://cafef.vn/doanh-nghiep-ti-hon-ganh-ga-khong-lo-nganh-cang-bien-loi-nhuan-moi-nam-dong-gop-200-300-ty-co-tuc-son-son-lai-hay-choi-lon-co-phieu-boc-dau-len-dinh-18824032315541691.chn</td><td>2024-04-18</td><td>Ngày 3/4 tới đây, CTCP Cảng Xanh Vip (mã VGR) sẽ chốt danh sách cổ đông nhận cổ tức đợt 2 năm 2023 với tỷ lệ 60% bằng tiền (01 cổ phiếu nhận 6.000 đồng). Với 63,25 triệu cổ phiếu đang lưu hành, VGR dự kiến sẽ chi khoảng 380 tỷ đồng cho đợt cổ tức này. Thời gian thanh toán dự kiến vào ngày 15/4/2024.Trước đó, vào tháng 6 năm ngoái, VGR đã tạm ứng cổ tức đợt 1 năm 2023 với tỷ lệ 10%. Như vậy, tính cả đợt cổ tức lần này, VGR đã chia cổ tức năm 2023 cho cổ đông với tổng tỷ lệ lên đến 70%, hoàn thành kế hoạch được thông qua tại ĐHĐCĐ thường niên 2024. Đây là mức cổ tức cao nhất của VGR kể từ khi lên sàn chứng khoán.Với hiệu ứng tích cực từ thông tin chia cổ tức khủng, cổ phiếu VGR liên tục tăng nóng lên đỉnh 58.000 đồng/cp. Vốn hóa thị trường tương ứng đạt gần 3.700 tỷ đồng, tăng 55% so với thời điểm đầu năm 2024. Con số này gấp hơn 3 lần giá trị doanh nghiệp thời điểm chào sàn chứng khoán 5 năm trước.VGR thành lập tháng 10/2014 bởi 2 cổ đông lớn là CTCP Container Việt Nam (Viconship – mã VSC) và CTCP vận tải xăng dầu Vipco, với vốn điều lệ ban đầu 450 tỷ. Năm 2015, đối tác chiến lược Evergreen Marine Corp (Taiwam) Ltd – một hãng tàu lớn của Đài Loan (Trung Quốc), đã mua 12,5 triệu cổ phiếu từ đợt phát hành riêng lẻ của VGR qua đó trở thành cổ đông lớn.Cơ cấu cổ đông VGR thay đổi lớn sau khi Viconship mua lại toàn bộ phần vốn góp của Xăng dầu Vipco tháng 4/2016, qua đó nâng tỷ lệ sở hữu lên 74,35%. Đến tháng 4/2018, VGR đưa cổ phiếu lên giao dịch trên UPCoM với vốn điều lệ 632,5 tỷ đồng cùng mức định giá ban đầu hơn 1.100 tỷ. 2 cổ đông lớn của VGR đến nay vẫn là Viconship (74,35%) và Evergreen Marine (21,74%).Từ khi lên sàn chứng khoán, VGR chưa năm nào quên chia cổ tức bằng tiền cho cổ đông, đặc biệt là tỷ lệ cổ tức còn liên tục tăng qua từng năm. Năm 2023, tổng số tiền doanh nghiệp này chi ra để trả cổ tức lên đến 443 tỷ đồng, phần lớn thuộc về Viconship. Không quá khi cho rằng VGR là \"con gà đẻ trứng vàng\" của Viconship. Chỉ riêng số tiền cổ tức năm 2023 nhận từ VGR đã lên đến hơn 329 tỷ đồng, gấp rưỡi lợi nhuận ròng mà Viconship đạt được trong cả năm.\"Gã khổng lồ\" cảng biển trên vai doanh nghiệp \"tí hon\"Viconship là một trong những doanh nghiệp khai thác cảng có quy mô và tuổi đời hàng đầu Việt Nam. Viconship cũng là đơn vị có công suất lớn nhất tại khu vực cụm cảng Hải Phòng với 3 cảng container chính là Green, VIP Green và Nam Hải – Đình Vũ (NHDV). Doanh nghiệp hiện có vốn điều lệ 2.668 tỷ và vốn hóa thị trường gần 6.000 tỷ đồng.Không chỉ \"dốc hầu bao\" trả cổ tức, VGR còn đóng góp hàng trăm tỷ lợi nhuận mỗi năm cho Viconship. Năm 2023 ghi nhận lần đầu tiên lợi nhuận của VGR vượt Viconship. Doanh nghiệp này lãi ròng 271 tỷ đồng, gần như đi ngang so với năm trước trong khi lợi nhuận sau thuế của Viconship giảm mạnh gần 49% về mức 202 tỷ đồng. Tạm tính theo tỷ lệ chi phối, ở một góc độ nào đó, VGR đang \"gánh\" lợi nhuận của \"gã khổng lồ\" Viconship.Viconship hiện vẫn đang trong chiến lược mở rộng quy mô thông qua M&A. Trong năm 2023, doanh nghiệp đã hoàn tất mua mới 35% vốn tại Công ty TNHH Cảng Nam Hải Đình Vũ (sở hữu cảng Nam Hải Đình Vũ tại Hải Phòng), với giá trị khoảng 1.049 tỷ đồng, tương ứng mua với giá gần 75.000 đồng/cổ phiếu, chuyển sang hạch toán là khoản đầu tư vào công ty liên kết.Hiện nay, Viconship đang có kế hoạch dùng 1.320 tỷ để nhận chuyển nhượng thêm tối đa 44% vốn điều lệ tại Cảng Nam Hải Đình Vũ, với giá 75.000 đồng/cổ phiếu. Nếu thành công, Viconship sẽ nâng sở hữu từ 35%, lên tối đa 79% vốn điều lệ, qua đó chuyển từ hạch toán đầu tư vào công ty liên kết sang công ty con. Thời gian chuyển nhượng dự kiến từ quý 4/2023 đến năm 2024.Việc sở hữu cảng Nam Hải Đình Vũ giúp Viconship trở thành doanh nghiệp cảng lớn nhất tại Hải Phòng hiện nay, với tổng công suất khoảng 2,6 triệu TEU và chiếm 30% thị phần. Viconship cũng cho biết Cảng Nam Hải Đình Vũ đã bắt đầu đóng góp lợi nhuận vào hệ thống của doanh nghiệp này. Khu vực cảng Hải Phòng là 1 trong 3 khu vực (Vũng tàu, Hồ Chí Minh) có lượng hàng contaier thông qua cảng biển lớn nhất, chiếm 27% tổng lượng container. Trong 2 tháng đầu năm 2024, lượng hàng hóa container thông qua cảng biển ước đạt hơn 4 triệu Teu, tăng 27% so với cùng kỳ. Riêng khu vực Hải Phòng ước tính tăng trưởng 40-60% so với cùng kỳ.Theo báo cáo phân tích công bố mới đây, Mirae Asset cho rằng, Thông tư 39/2023/TT-BGTVT được thông qua nâng toàn bộ mức phí sàn dịch vụ của cảng biển trung bình lên khoảng 10%, sẽ hỗ trợ tích cực cho tăng trưởng doanh thu của các doanh nghiệp vận hành cảng biển, trong đó có Viconship.</td><td>{\n",
       "\"VGR\":{\n",
       "  \"content\": \"VGR sẽ chốt danh sách cổ đông nhận cổ tức đợt 2 năm 2023 với tỷ lệ 60%, cổ phiếu tăng nóng lên đỉnh 58.000 đồng/cp.\",\n",
       "  \"sentiment\": \"positive\"\n",
       "},\n",
       "\"VSC\":{\n",
       "  \"content\": \"Viconship mua lại toàn bộ phần vốn góp của Xăng dầu Vipco tháng 4/2016, VGR đưa cổ phiếu lên giao dịch trên UPCoM.\",\n",
       "  \"sentiment\": \"neutral\"\n",
       "},\n",
       "\"Viconship\":{\n",
       "  \"content\": \"Viconship là một trong những doanh nghiệp khai thác cảng có quy mô và tuổi đời hàng đầu Việt Nam, VGR đang 'gánh' lợi nhuận của 'gã khổng lồ' Viconship.\",\n",
       "  \"sentiment\": \"neutral\"\n",
       "},\n",
       "\"Viconship\":{\n",
       "  \"content\": \"Viconship hiện vẫn đang trong chiến lược mở rộng quy mô thông qua M&A, Viconship sẽ nâng sở hữu từ 35%, lên tối đa 79% vốn điều lệ.\",\n",
       "  \"sentiment\": \"neutral\"\n",
       "},\n",
       "\"Viconship\":{\n",
       "  \"content\": \"Viconship cũng cho biết Cảng Nam Hải Đình Vũ đã bắt đầu đóng góp lợi nhuận vào hệ thống của doanh nghiệp này, lượng hàng hóa container thông qua cảng biển ước đạt hơn 4 triệu Teu.\",\n",
       "  \"sentiment\": \"neutral\"\n",
       "},\n",
       "\"Viconship\":{\n",
       "  \"content\": \"Thông tư 39/2023/TT-BGTVT được thông qua nâng toàn bộ mức phí sàn dịch vụ của cảng biển trung bình lên khoảng 10%, sẽ hỗ trợ tích cực cho tăng trưởng doanh thu của các doanh nghiệp vận hành cảng biển.\",\n",
       "  \"sentiment\": \"positive\"\n",
       "}\n",
       "}</td></tr></tbody></table></div>"
      ]
     },
     "metadata": {
      "application/vnd.databricks.v1+output": {
       "addedWidgets": {},
       "aggData": [],
       "aggError": "",
       "aggOverflow": false,
       "aggSchema": [],
       "aggSeriesLimitReached": false,
       "aggType": "",
       "arguments": {},
       "columnCustomDisplayInfos": {},
       "data": [
        [
         "https://cafef.vn/truong-dai-hoc-duoc-vi-nhu-cung-dien-chau-au-doc-nhat-vo-nhi-o-viet-nam-hoc-phi-re-bat-ngo-lum-xum-kien-tung-giua-co-dong-gop-von-la-2-anh-em-ruot-188240324221805058.chn",
         "2024-04-18",
         "Tại Việt Nam, thị trường giáo dục, đặc biệt phân khúc trường đại học thu hút rất nhiều “đại gia” trong ngoài nước tham gia đầu tư. Các trường thu hút sinh viên với nhiều mô hình, chương trình giảng dạy cho đến kiến trúc xây dựng. Trong đó, trường Đại học Võ Trường Toản tại tỉnh Hậu Giang nhiều năm qua vẫn là ngôi trường gây chú ý nhất.Trường đại học được ví như cung điện độc nhất vô nhị ở Việt NamTheo giới thiệu, Đại học Võ Trường Toản là ngôi trường đại học tư thục đầu tiên của tỉnh Hậu Giang. Trường được thành lập vào tháng 2/2008, xây dựng theo mô hình “Thành phố đại học” mang phong cách châu Âu trên diện tích 20 hecta.Trường có thể đáp ứng nhu cầu học tập của trên 18.000 sinh viên, với đầy đủ cơ sở vật chất như khu giảng đường lý thuyết, khu thực hành thí nghiệm, nhà hiệu bộ, văn phòng làm việc, khu trung tâm thương mại - giải trí và ký túc xá.Bên cạnh đó, trường có hệ thống kiến trúc hiện đại, với hàng trăm mái vòm, cột tháp, mang đậm phong cách châu Âu. Màu xanh của cây cối kết hợp với màu sắc chủ đạo trong thiết kế gồm trắng, xám và đỏ bordeaux giúp tôn lên vẻ đẹp huyền bí và cổ tích của ngôi trường này.Trường còn có cả Khu công viên Kittyd & Minnied được thiết kế theo phong cách châu Âu với nhiều tòa nhà, lâu đài và nhiều trò chơi giải trí hấp dẫn, như tàu lượn siêu tốc, vòng quay ngựa gỗ, xe điện đụng….Ảnh: Một số hình ảnh của Trường Đại học Võ Trường Toản.Học phí “rẻ nhất Việt Nam”, chỉ từ 5,25 triệu/học kỳXịn sò là vậy, song trường lại có mức học phí rẻ đến bất ngờ, cam kết “rẻ nhất Việt Nam”. Theo Thông tin tuyển sinh niên khoá 2023 - 2024, học phí của Võ Trường Toản là 5,25 - 5,7 triệu/học kỳ với các ngành đang “hot” như: Tài chính - Ngân hàng, Quản trị Kinh doanh, Kế toán, Kinh doanh Quốc tế, Thương mại điện tử, Quản lý Nhà nước, Luật, Công nghệ thông tin.Trường cũng đào tạo các ngành y khoa với học phí 30,75 triệu đồng/học kỳ, dược với 21,25 triệu đồng/học kỳ, răng hàm mặt với 30,75 triệu/học kỳ. Một năm có 2 học kỳ.Trường còn cung cấp các gói học bổng cho sinh viên điểm cao.",
         "{\n\"VTT\":{\n  \"content\": \"Trường Đại học Võ Trường Toản tại tỉnh Hậu Giang là ngôi trường gây chú ý nhất với hệ thống kiến trúc hiện đại và học phí rẻ nhất Việt Nam.\",\n  \"sentiment\": \"positive\"\n},\n\"VNM\":{\n  \"content\": \"Thị trường giáo dục, đặc biệt phân khúc trường đại học tại Việt Nam thu hút nhiều đại gia trong và ngoài nước tham gia đầu tư.\",\n  \"sentiment\": \"neutral\"\n},\n\"CTG\":{\n  \"content\": \"Trường Đại học Võ Trường Toản có hệ thống kiến trúc hiện đại và học phí rẻ nhất Việt Nam, đào tạo nhiều ngành hot như Tài chính - Ngân hàng, Quản trị Kinh doanh, Kế toán, Kinh doanh Quốc tế, Thương mại điện tử, Quản lý Nhà nước, Luật, Công nghệ thông tin.\",\n  \"sentiment\": \"positive\"\n},\n\"VRE\":{\n  \"content\": \"Trường Đại học Võ Trường Toản có hệ thống kiến trúc hiện đại và học phí rẻ nhất Việt Nam, đào tạo nhiều ngành hot như Tài chính - Ngân hàng, Quản trị Kinh doanh, Kế toán, Kinh doanh Quốc tế, Thương mại điện tử, Quản lý Nhà nước, Luật, Công nghệ thông tin.\",\n  \"sentiment\": \"positive\"\n},\n\"VIC\":{\n  \"content\": \"Trường Đại học Võ Trường Toản có hệ thống kiến trúc hiện đại và học phí rẻ nhất Việt Nam, đào tạo nhiều ngành hot như Tài chính - Ngân hàng, Quản trị Kinh doanh, Kế toán, Kinh doanh Quốc tế, Thương mại điện tử, Quản lý Nhà nước, Luật, Công nghệ thông tin.\",\n  \"sentiment\": \"positive\"\n},\n\"HPG\":{\n  \"content\": \"Trường Đại học Võ Trường Toản có hệ thống kiến trúc hiện đại và học phí rẻ nhất Việt Nam, đào tạo nhiều ngành hot như Tài chính - Ngân hàng, Quản trị Kinh doanh, Kế toán, Kinh doanh Quốc tế, Thương mại điện tử, Quản lý Nhà nước, Luật, Công nghệ thông tin"
        ],
        [
         "https://cafef.vn/doanh-nghiep-ti-hon-ganh-ga-khong-lo-nganh-cang-bien-loi-nhuan-moi-nam-dong-gop-200-300-ty-co-tuc-son-son-lai-hay-choi-lon-co-phieu-boc-dau-len-dinh-18824032315541691.chn",
         "2024-04-18",
         "Ngày 3/4 tới đây, CTCP Cảng Xanh Vip (mã VGR) sẽ chốt danh sách cổ đông nhận cổ tức đợt 2 năm 2023 với tỷ lệ 60% bằng tiền (01 cổ phiếu nhận 6.000 đồng). Với 63,25 triệu cổ phiếu đang lưu hành, VGR dự kiến sẽ chi khoảng 380 tỷ đồng cho đợt cổ tức này. Thời gian thanh toán dự kiến vào ngày 15/4/2024.Trước đó, vào tháng 6 năm ngoái, VGR đã tạm ứng cổ tức đợt 1 năm 2023 với tỷ lệ 10%. Như vậy, tính cả đợt cổ tức lần này, VGR đã chia cổ tức năm 2023 cho cổ đông với tổng tỷ lệ lên đến 70%, hoàn thành kế hoạch được thông qua tại ĐHĐCĐ thường niên 2024. Đây là mức cổ tức cao nhất của VGR kể từ khi lên sàn chứng khoán.Với hiệu ứng tích cực từ thông tin chia cổ tức khủng, cổ phiếu VGR liên tục tăng nóng lên đỉnh 58.000 đồng/cp. Vốn hóa thị trường tương ứng đạt gần 3.700 tỷ đồng, tăng 55% so với thời điểm đầu năm 2024. Con số này gấp hơn 3 lần giá trị doanh nghiệp thời điểm chào sàn chứng khoán 5 năm trước.VGR thành lập tháng 10/2014 bởi 2 cổ đông lớn là CTCP Container Việt Nam (Viconship – mã VSC) và CTCP vận tải xăng dầu Vipco, với vốn điều lệ ban đầu 450 tỷ. Năm 2015, đối tác chiến lược Evergreen Marine Corp (Taiwam) Ltd – một hãng tàu lớn của Đài Loan (Trung Quốc), đã mua 12,5 triệu cổ phiếu từ đợt phát hành riêng lẻ của VGR qua đó trở thành cổ đông lớn.Cơ cấu cổ đông VGR thay đổi lớn sau khi Viconship mua lại toàn bộ phần vốn góp của Xăng dầu Vipco tháng 4/2016, qua đó nâng tỷ lệ sở hữu lên 74,35%. Đến tháng 4/2018, VGR đưa cổ phiếu lên giao dịch trên UPCoM với vốn điều lệ 632,5 tỷ đồng cùng mức định giá ban đầu hơn 1.100 tỷ. 2 cổ đông lớn của VGR đến nay vẫn là Viconship (74,35%) và Evergreen Marine (21,74%).Từ khi lên sàn chứng khoán, VGR chưa năm nào quên chia cổ tức bằng tiền cho cổ đông, đặc biệt là tỷ lệ cổ tức còn liên tục tăng qua từng năm. Năm 2023, tổng số tiền doanh nghiệp này chi ra để trả cổ tức lên đến 443 tỷ đồng, phần lớn thuộc về Viconship. Không quá khi cho rằng VGR là \"con gà đẻ trứng vàng\" của Viconship. Chỉ riêng số tiền cổ tức năm 2023 nhận từ VGR đã lên đến hơn 329 tỷ đồng, gấp rưỡi lợi nhuận ròng mà Viconship đạt được trong cả năm.\"Gã khổng lồ\" cảng biển trên vai doanh nghiệp \"tí hon\"Viconship là một trong những doanh nghiệp khai thác cảng có quy mô và tuổi đời hàng đầu Việt Nam. Viconship cũng là đơn vị có công suất lớn nhất tại khu vực cụm cảng Hải Phòng với 3 cảng container chính là Green, VIP Green và Nam Hải – Đình Vũ (NHDV). Doanh nghiệp hiện có vốn điều lệ 2.668 tỷ và vốn hóa thị trường gần 6.000 tỷ đồng.Không chỉ \"dốc hầu bao\" trả cổ tức, VGR còn đóng góp hàng trăm tỷ lợi nhuận mỗi năm cho Viconship. Năm 2023 ghi nhận lần đầu tiên lợi nhuận của VGR vượt Viconship. Doanh nghiệp này lãi ròng 271 tỷ đồng, gần như đi ngang so với năm trước trong khi lợi nhuận sau thuế của Viconship giảm mạnh gần 49% về mức 202 tỷ đồng. Tạm tính theo tỷ lệ chi phối, ở một góc độ nào đó, VGR đang \"gánh\" lợi nhuận của \"gã khổng lồ\" Viconship.Viconship hiện vẫn đang trong chiến lược mở rộng quy mô thông qua M&A. Trong năm 2023, doanh nghiệp đã hoàn tất mua mới 35% vốn tại Công ty TNHH Cảng Nam Hải Đình Vũ (sở hữu cảng Nam Hải Đình Vũ tại Hải Phòng), với giá trị khoảng 1.049 tỷ đồng, tương ứng mua với giá gần 75.000 đồng/cổ phiếu, chuyển sang hạch toán là khoản đầu tư vào công ty liên kết.Hiện nay, Viconship đang có kế hoạch dùng 1.320 tỷ để nhận chuyển nhượng thêm tối đa 44% vốn điều lệ tại Cảng Nam Hải Đình Vũ, với giá 75.000 đồng/cổ phiếu. Nếu thành công, Viconship sẽ nâng sở hữu từ 35%, lên tối đa 79% vốn điều lệ, qua đó chuyển từ hạch toán đầu tư vào công ty liên kết sang công ty con. Thời gian chuyển nhượng dự kiến từ quý 4/2023 đến năm 2024.Việc sở hữu cảng Nam Hải Đình Vũ giúp Viconship trở thành doanh nghiệp cảng lớn nhất tại Hải Phòng hiện nay, với tổng công suất khoảng 2,6 triệu TEU và chiếm 30% thị phần. Viconship cũng cho biết Cảng Nam Hải Đình Vũ đã bắt đầu đóng góp lợi nhuận vào hệ thống của doanh nghiệp này. Khu vực cảng Hải Phòng là 1 trong 3 khu vực (Vũng tàu, Hồ Chí Minh) có lượng hàng contaier thông qua cảng biển lớn nhất, chiếm 27% tổng lượng container. Trong 2 tháng đầu năm 2024, lượng hàng hóa container thông qua cảng biển ước đạt hơn 4 triệu Teu, tăng 27% so với cùng kỳ. Riêng khu vực Hải Phòng ước tính tăng trưởng 40-60% so với cùng kỳ.Theo báo cáo phân tích công bố mới đây, Mirae Asset cho rằng, Thông tư 39/2023/TT-BGTVT được thông qua nâng toàn bộ mức phí sàn dịch vụ của cảng biển trung bình lên khoảng 10%, sẽ hỗ trợ tích cực cho tăng trưởng doanh thu của các doanh nghiệp vận hành cảng biển, trong đó có Viconship.",
         "{\n\"VGR\":{\n  \"content\": \"VGR sẽ chốt danh sách cổ đông nhận cổ tức đợt 2 năm 2023 với tỷ lệ 60%, cổ phiếu tăng nóng lên đỉnh 58.000 đồng/cp.\",\n  \"sentiment\": \"positive\"\n},\n\"VSC\":{\n  \"content\": \"Viconship mua lại toàn bộ phần vốn góp của Xăng dầu Vipco tháng 4/2016, VGR đưa cổ phiếu lên giao dịch trên UPCoM.\",\n  \"sentiment\": \"neutral\"\n},\n\"Viconship\":{\n  \"content\": \"Viconship là một trong những doanh nghiệp khai thác cảng có quy mô và tuổi đời hàng đầu Việt Nam, VGR đang 'gánh' lợi nhuận của 'gã khổng lồ' Viconship.\",\n  \"sentiment\": \"neutral\"\n},\n\"Viconship\":{\n  \"content\": \"Viconship hiện vẫn đang trong chiến lược mở rộng quy mô thông qua M&A, Viconship sẽ nâng sở hữu từ 35%, lên tối đa 79% vốn điều lệ.\",\n  \"sentiment\": \"neutral\"\n},\n\"Viconship\":{\n  \"content\": \"Viconship cũng cho biết Cảng Nam Hải Đình Vũ đã bắt đầu đóng góp lợi nhuận vào hệ thống của doanh nghiệp này, lượng hàng hóa container thông qua cảng biển ước đạt hơn 4 triệu Teu.\",\n  \"sentiment\": \"neutral\"\n},\n\"Viconship\":{\n  \"content\": \"Thông tư 39/2023/TT-BGTVT được thông qua nâng toàn bộ mức phí sàn dịch vụ của cảng biển trung bình lên khoảng 10%, sẽ hỗ trợ tích cực cho tăng trưởng doanh thu của các doanh nghiệp vận hành cảng biển.\",\n  \"sentiment\": \"positive\"\n}\n}"
        ]
       ],
       "datasetInfos": [],
       "dbfsResultPath": null,
       "isJsonSchema": true,
       "metadata": {},
       "overflow": false,
       "plotOptions": {
        "customPlotOptions": {},
        "displayType": "table",
        "pivotAggregation": null,
        "pivotColumns": null,
        "xColumns": null,
        "yColumns": null
       },
       "removedWidgets": [],
       "schema": [
        {
         "metadata": "{}",
         "name": "article",
         "type": "\"string\""
        },
        {
         "metadata": "{}",
         "name": "created_date",
         "type": "\"string\""
        },
        {
         "metadata": "{}",
         "name": "content",
         "type": "\"string\""
        },
        {
         "metadata": "{}",
         "name": "result",
         "type": "\"string\""
        }
       ],
       "type": "table"
      }
     },
     "output_type": "display_data"
    }
   ],
   "source": [
    "df_result.display()"
   ]
  },
  {
   "cell_type": "code",
   "execution_count": null,
   "metadata": {
    "application/vnd.databricks.v1+cell": {
     "cellMetadata": {
      "byteLimit": 2048000,
      "rowLimit": 10000
     },
     "inputWidgets": {},
     "nuid": "24bf6b70-0caf-4b3e-b26b-f08fde97c9b7",
     "showTitle": false,
     "title": ""
    }
   },
   "outputs": [
    {
     "data": {
      "text/html": [
       "<div>\n",
       "<style scoped>\n",
       "    .dataframe tbody tr th:only-of-type {\n",
       "        vertical-align: middle;\n",
       "    }\n",
       "\n",
       "    .dataframe tbody tr th {\n",
       "        vertical-align: top;\n",
       "    }\n",
       "\n",
       "    .dataframe thead th {\n",
       "        text-align: right;\n",
       "    }\n",
       "</style>\n",
       "<table border=\"1\" class=\"dataframe\">\n",
       "  <thead>\n",
       "    <tr style=\"text-align: right;\">\n",
       "      <th></th>\n",
       "      <th>article</th>\n",
       "      <th>created_date</th>\n",
       "      <th>stockCode</th>\n",
       "      <th>content</th>\n",
       "      <th>label</th>\n",
       "    </tr>\n",
       "  </thead>\n",
       "  <tbody>\n",
       "    <tr>\n",
       "      <th>5</th>\n",
       "      <td>https://cafef.vn/doanh-nghiep-ti-hon-ganh-ga-k...</td>\n",
       "      <td>2024-04-18</td>\n",
       "      <td>VGR</td>\n",
       "      <td>VGR sẽ chốt danh sách cổ đông nhận cổ tức đợt ...</td>\n",
       "      <td>positive</td>\n",
       "    </tr>\n",
       "    <tr>\n",
       "      <th>6</th>\n",
       "      <td>https://cafef.vn/doanh-nghiep-ti-hon-ganh-ga-k...</td>\n",
       "      <td>2024-04-18</td>\n",
       "      <td>VSC</td>\n",
       "      <td>Viconship mua lại toàn bộ phần vốn góp của Xăn...</td>\n",
       "      <td>neutral</td>\n",
       "    </tr>\n",
       "    <tr>\n",
       "      <th>7</th>\n",
       "      <td>https://cafef.vn/doanh-nghiep-ti-hon-ganh-ga-k...</td>\n",
       "      <td>2024-04-18</td>\n",
       "      <td>Viconship</td>\n",
       "      <td>Thông tư 39/2023/TT-BGTVT được thông qua nâng ...</td>\n",
       "      <td>positive</td>\n",
       "    </tr>\n",
       "  </tbody>\n",
       "</table>\n",
       "</div>"
      ],
      "text/plain": [
       "                                             article  ...     label\n",
       "5  https://cafef.vn/doanh-nghiep-ti-hon-ganh-ga-k...  ...  positive\n",
       "6  https://cafef.vn/doanh-nghiep-ti-hon-ganh-ga-k...  ...   neutral\n",
       "7  https://cafef.vn/doanh-nghiep-ti-hon-ganh-ga-k...  ...  positive\n",
       "\n",
       "[3 rows x 5 columns]"
      ]
     },
     "execution_count": 33,
     "metadata": {},
     "output_type": "execute_result"
    }
   ],
   "source": [
    "import json\n",
    "data_list = []\n",
    "\n",
    "for index, row in df_result.iterrows():\n",
    "    try:\n",
    "        result_str = row['result']\n",
    "        if not result_str.endswith(\"}\\n}\"):\n",
    "            last_brace_index = result_str.rfind('}')\n",
    "            result_str = result_str[:last_brace_index+1] + \"\\n}\"\n",
    "            result_json = json.loads(result_str)\n",
    "        else:\n",
    "            result_json = json.loads(result_str)\n",
    "\n",
    "        for stock_code, content_sentiment in result_json.items():\n",
    "            content = content_sentiment['content']\n",
    "            sentiment = content_sentiment['sentiment']\n",
    "            data_list.append({'article': row['article'], 'created_date': row['created_date'], 'content_detail': row['content'], 'stockCode': stock_code, 'content': content, 'label': sentiment})\n",
    "    except Exception as e:\n",
    "        print(f\"Error processing row {index}: {e}\")\n",
    "\n",
    "df_stock = pd.DataFrame(data_list)\n",
    "stock_filtered_df = df_stock[df_stock.apply(lambda row: f\"{row['stockCode']}\" in row['content_detail'], axis=1)]\n",
    "stock_filtered_df = stock_filtered_df[[\"article\", \"created_date\", \"stockCode\", \"content\", \"label\"]]\n",
    "# df_new = df_stock[[\"url\", \"lastmod\", \"stockCode\", \"content\", \"sentiment\"]]\n",
    "stock_filtered_df"
   ]
  },
  {
   "cell_type": "code",
   "execution_count": null,
   "metadata": {
    "application/vnd.databricks.v1+cell": {
     "cellMetadata": {
      "byteLimit": 2048000,
      "rowLimit": 10000
     },
     "inputWidgets": {},
     "nuid": "12d24745-012e-4dd8-b407-0a0e24956c1e",
     "showTitle": false,
     "title": ""
    }
   },
   "outputs": [
    {
     "data": {
      "text/plain": [
       "{'etag': '\"0x8DC605E482EF407\"',\n",
       " 'last_modified': datetime.datetime(2024, 4, 19, 10, 48, 43, tzinfo=datetime.timezone.utc),\n",
       " 'content_md5': bytearray(b'\\xe9\\xe9\\xd2\\xc9\\x82Q[\\x94;F\\x7f\\xb4wl\\xf3F'),\n",
       " 'client_request_id': '63e828da-fe3a-11ee-b1b9-00163e73b5e7',\n",
       " 'request_id': 'f626e2dd-601e-0052-2947-922a6e000000',\n",
       " 'version': '2022-11-02',\n",
       " 'version_id': None,\n",
       " 'date': datetime.datetime(2024, 4, 19, 10, 48, 43, tzinfo=datetime.timezone.utc),\n",
       " 'request_server_encrypted': True,\n",
       " 'encryption_key_sha256': None,\n",
       " 'encryption_scope': None}"
      ]
     },
     "execution_count": 34,
     "metadata": {},
     "output_type": "execute_result"
    }
   ],
   "source": [
    "from azure.storage.blob import BlobServiceClient\n",
    "import io\n",
    "writer1 = io.BytesIO()\n",
    "stock_filtered_df.to_excel(writer1,index=False)\n",
    "file_name = f\"new_stock.xlsx\"\n",
    "# changepm_file_name = f\"changepm_project_lists_{suffix}.xlsx\"\n",
    "storge_connect_str=\"{connection_string}\"\n",
    "blob_service_client = BlobServiceClient.from_connection_string(storge_connect_str)\n",
    "blob_client1 =blob_service_client.get_blob_client(container=\"hr-source\", blob = \"temp_folder/\" + file_name)\n",
    "blob_client1.upload_blob(writer1.getvalue(),overwrite=True)"
   ]
  },
  {
   "cell_type": "code",
   "execution_count": null,
   "metadata": {
    "application/vnd.databricks.v1+cell": {
     "cellMetadata": {
      "byteLimit": 2048000,
      "rowLimit": 10000
     },
     "inputWidgets": {},
     "nuid": "cd34cf6f-780a-42d4-8a60-8e014e7bf1ff",
     "showTitle": false,
     "title": ""
    }
   },
   "outputs": [],
   "source": [
    "if len(stock_filtered_df) > 0:\n",
    "    dbutils.notebook.run(\"/SA/Model2CosmosDB\", 0)\n",
    "else:\n",
    "    print(\"Không có dữ liệu!\")"
   ]
  }
 ],
 "metadata": {
  "application/vnd.databricks.v1+notebook": {
   "dashboards": [],
   "language": "python",
   "notebookMetadata": {
    "pythonIndentUnit": 4
   },
   "notebookName": "SummarizeArticle2Model",
   "widgets": {}
  },
  "language_info": {
   "name": "python"
  }
 },
 "nbformat": 4,
 "nbformat_minor": 0
}
