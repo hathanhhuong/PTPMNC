{
 "cells": [
  {
   "cell_type": "code",
   "execution_count": 1,
   "metadata": {},
   "outputs": [],
   "source": [
    "from article_managers import Articles, ArticleManagers "
   ]
  },
  {
   "cell_type": "code",
   "execution_count": 2,
   "metadata": {},
   "outputs": [
    {
     "name": "stdout",
     "output_type": "stream",
     "text": [
      "Finished file outputs/excluded_links.txt, got 1899 articles.\n"
     ]
    }
   ],
   "source": [
    "excluded_articles_file_path = r'outputs/excluded_links.txt'\n",
    "output_folder_path = r\"outputs/cafef/\"\n",
    "processed_submaps_file_path = r'outputs/processed_submaps.txt'\n",
    "sitemap_url = r'https://cafef.vn/sitemap.xml'\n",
    "\n",
    "am = ArticleManagers(excluded_articles_file_path = excluded_articles_file_path)\n"
   ]
  },
  {
   "cell_type": "code",
   "execution_count": 5,
   "metadata": {},
   "outputs": [
    {
     "name": "stdout",
     "output_type": "stream",
     "text": [
      "Finished file outputs/processed_submaps.txt, got 597 articles.\n"
     ]
    },
    {
     "name": "stdout",
     "output_type": "stream",
     "text": [
      "Processed: https://cafef.vn/sitemaps/sitemaps-2024-4-11-15.xml: got 204 articles.\n"
     ]
    }
   ],
   "source": [
    "am.crawl_and_save_sitemap(sitemap_url=sitemap_url, processed_submaps_file_path=processed_submaps_file_path, output_folder_path= output_folder_path)"
   ]
  },
  {
   "cell_type": "code",
   "execution_count": null,
   "metadata": {},
   "outputs": [],
   "source": []
  },
  {
   "cell_type": "code",
   "execution_count": 4,
   "metadata": {},
   "outputs": [
    {
     "name": "stdout",
     "output_type": "stream",
     "text": [
      "Finished file outputs/processed_submaps.txt, got 597 articles.\n",
      "Finished file outputs/cafef/sitemaps-2024-4-11-15.txt, got 194 articles.\n",
      "Articles file not found at: outputs/cafef/sitemaps-2024-4-11-15_processed.txt\n",
      "Processed 100/194 articles. 94 unprocessed urls remaining\n",
      "Finished. No more unprocessed articles.\n",
      "Finished processing https://cafef.vn/sitemaps/sitemaps-2024-4-11-15.xml.\n",
      "Finished file outputs/cafef/sitemaps-2024-4-6-10.txt, got 1330 articles.\n",
      "Articles file not found at: outputs/cafef/sitemaps-2024-4-6-10_processed.txt\n",
      "ERROR processing article: ConnectionError: https://cafef.vn/vingroup-chuan-bi-phat-hanh-8000-ty-trai-phieu-de-tai-co-cau-no-188240410152822909.chn. Added to excluded articles\n",
      "Processed 100/1330 articles. 1230 unprocessed urls remaining\n",
      "Processed 200/1330 articles. 1130 unprocessed urls remaining\n",
      "Processed 300/1330 articles. 1030 unprocessed urls remaining\n",
      "Processed 400/1330 articles. 930 unprocessed urls remaining\n",
      "Processed 500/1330 articles. 830 unprocessed urls remaining\n",
      "Processed 600/1330 articles. 730 unprocessed urls remaining\n",
      "Processed 700/1330 articles. 630 unprocessed urls remaining\n",
      "Processed 800/1330 articles. 530 unprocessed urls remaining\n",
      "ERROR processing article: ConnectionError: https://cafef.vn/dat-xanh-dxg-dat-ke-hoach-lai-rong-tang-31-du-kien-chia-co-tuc-20-188240408112418025.chn. Added to excluded articles\n",
      "ERROR processing article: AttributeError: https://cafef.vn/ong-gabor-fluit-duoc-bo-nhiem-tong-giam-doc-de-heus-toan-cau-nong-nghiep-viet-nam-lon-nhanh-nhu-thoi-sau-15-thap-ky-18824040809214754.chn. Added to excluded articles\n",
      "Processed 900/1330 articles. 430 unprocessed urls remaining\n",
      "Processed 1000/1330 articles. 330 unprocessed urls remaining\n",
      "Processed 1100/1330 articles. 230 unprocessed urls remaining\n",
      "ERROR processing article: ConnectionError: https://cafef.vn/nu-nghe-si-tu-bo-hao-quang-di-du-hoc-phai-rua-bat-phu-bep-kiem-tien-u50-khong-chong-con-188240406190338398.chn. Added to excluded articles\n",
      "Processed 1200/1330 articles. 130 unprocessed urls remaining\n",
      "Processed 1300/1330 articles. 30 unprocessed urls remaining\n",
      "Finished. No more unprocessed articles.\n",
      "Finished processing https://cafef.vn/sitemaps/sitemaps-2024-4-6-10.xml.\n",
      "Finished file outputs/cafef/sitemaps-2024-4-1-5.txt, got 1608 articles.\n",
      "Finished file outputs/cafef/sitemaps-2024-4-1-5_processed.txt, got 1498 articles.\n",
      "Finished. No more unprocessed articles.\n",
      "Finished processing https://cafef.vn/sitemaps/sitemaps-2024-4-1-5.xml.\n"
     ]
    }
   ],
   "source": [
    "am.process_urls_from_submaps(processed_submaps_file_path, output_folder_path)"
   ]
  }
 ],
 "metadata": {
  "kernelspec": {
   "display_name": ".venv",
   "language": "python",
   "name": "python3"
  },
  "language_info": {
   "codemirror_mode": {
    "name": "ipython",
    "version": 3
   },
   "file_extension": ".py",
   "mimetype": "text/x-python",
   "name": "python",
   "nbconvert_exporter": "python",
   "pygments_lexer": "ipython3",
   "version": "3.10.5"
  }
 },
 "nbformat": 4,
 "nbformat_minor": 2
}
